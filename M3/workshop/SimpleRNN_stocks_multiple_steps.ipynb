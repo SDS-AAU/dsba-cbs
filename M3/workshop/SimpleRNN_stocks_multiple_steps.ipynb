{
  "nbformat": 4,
  "nbformat_minor": 0,
  "metadata": {
    "colab": {
      "name": "SimpleRNN - stocks.ipynb",
      "provenance": [],
      "authorship_tag": "ABX9TyOI0CdSJ9txMFdm/SH9h7n7",
      "include_colab_link": true
    },
    "kernelspec": {
      "name": "python3",
      "display_name": "Python 3"
    }
  },
  "cells": [
    {
      "cell_type": "markdown",
      "metadata": {
        "id": "view-in-github",
        "colab_type": "text"
      },
      "source": [
        "<a href=\"https://colab.research.google.com/github/SDS-AAU/dsba-cbs/blob/master/M3/workshop/SimpleRNN_stocks_multiple_steps.ipynb\" target=\"_parent\"><img src=\"https://colab.research.google.com/assets/colab-badge.svg\" alt=\"Open In Colab\"/></a>"
      ]
    },
    {
      "cell_type": "markdown",
      "metadata": {
        "id": "2agbLdkdH4HY"
      },
      "source": [
        "Time series prediction with LSTMs\n",
        "This notebook is adopted from [Machine Learning Mastery](https://machinelearningmastery.com/time-series-prediction-lstm-recurrent-neural-networks-python-keras/)\n",
        "Please visit the tutorial there for more details and to see variations of that using sliding windows and timesteps.\n",
        "\n",
        "\n"
      ]
    },
    {
      "cell_type": "code",
      "metadata": {
        "id": "FDwEk3kyytfm"
      },
      "source": [
        "import pandas as pd\n",
        "import matplotlib.pyplot as plt\n",
        "\n",
        "import seaborn as sns\n",
        "sns.set()"
      ],
      "execution_count": 1,
      "outputs": []
    },
    {
      "cell_type": "code",
      "metadata": {
        "id": "-DvCu5ZybBRN"
      },
      "source": [
        "# convert an array of values into a dataset matrix\n",
        "def create_dataset(dataset, look_back=1):\n",
        "\tdataX, dataY = [], []\n",
        "\tfor i in range(len(dataset)-look_back-1):\n",
        "\t\ta = dataset[i:(i+look_back), 0]\n",
        "\t\tdataX.append(a)\n",
        "\t\tdataY.append(dataset[i + look_back, 0])\n",
        "\treturn numpy.array(dataX), numpy.array(dataY)"
      ],
      "execution_count": 2,
      "outputs": []
    },
    {
      "cell_type": "code",
      "metadata": {
        "colab": {
          "base_uri": "https://localhost:8080/"
        },
        "id": "QPHtmoEA6YBo",
        "outputId": "7ce4d60f-70a3-4e51-db88-cf6cbc8b79e9"
      },
      "source": [
        "!pip install pandas-datareader"
      ],
      "execution_count": 16,
      "outputs": [
        {
          "output_type": "stream",
          "text": [
            "Requirement already satisfied: pandas-datareader in /usr/local/lib/python3.6/dist-packages (0.9.0)\n",
            "Requirement already satisfied: requests>=2.19.0 in /usr/local/lib/python3.6/dist-packages (from pandas-datareader) (2.23.0)\n",
            "Requirement already satisfied: pandas>=0.23 in /usr/local/lib/python3.6/dist-packages (from pandas-datareader) (1.1.4)\n",
            "Requirement already satisfied: lxml in /usr/local/lib/python3.6/dist-packages (from pandas-datareader) (4.6.2)\n",
            "Requirement already satisfied: urllib3!=1.25.0,!=1.25.1,<1.26,>=1.21.1 in /usr/local/lib/python3.6/dist-packages (from requests>=2.19.0->pandas-datareader) (1.24.3)\n",
            "Requirement already satisfied: chardet<4,>=3.0.2 in /usr/local/lib/python3.6/dist-packages (from requests>=2.19.0->pandas-datareader) (3.0.4)\n",
            "Requirement already satisfied: certifi>=2017.4.17 in /usr/local/lib/python3.6/dist-packages (from requests>=2.19.0->pandas-datareader) (2020.11.8)\n",
            "Requirement already satisfied: idna<3,>=2.5 in /usr/local/lib/python3.6/dist-packages (from requests>=2.19.0->pandas-datareader) (2.10)\n",
            "Requirement already satisfied: numpy>=1.15.4 in /usr/local/lib/python3.6/dist-packages (from pandas>=0.23->pandas-datareader) (1.18.5)\n",
            "Requirement already satisfied: python-dateutil>=2.7.3 in /usr/local/lib/python3.6/dist-packages (from pandas>=0.23->pandas-datareader) (2.8.1)\n",
            "Requirement already satisfied: pytz>=2017.2 in /usr/local/lib/python3.6/dist-packages (from pandas>=0.23->pandas-datareader) (2018.9)\n",
            "Requirement already satisfied: six>=1.5 in /usr/local/lib/python3.6/dist-packages (from python-dateutil>=2.7.3->pandas>=0.23->pandas-datareader) (1.15.0)\n"
          ],
          "name": "stdout"
        }
      ]
    },
    {
      "cell_type": "code",
      "metadata": {
        "id": "boT-MF0yzc7N"
      },
      "source": [
        "from pandas_datareader import data as pdr"
      ],
      "execution_count": 3,
      "outputs": []
    },
    {
      "cell_type": "code",
      "metadata": {
        "colab": {
          "base_uri": "https://localhost:8080/"
        },
        "id": "lXotvo1T8PuB",
        "outputId": "0e851e12-884e-4a5e-ae4b-e89b449b2b02"
      },
      "source": [
        "import yfinance as yf\n",
        "yf.pdr_override() # <== that's all it takes :-)\n",
        "\n",
        "# download dataframe\n",
        "data = pdr.get_data_yahoo(\"^OMXH25\", start=\"2017-12-01\", end=\"2020-12-01\")"
      ],
      "execution_count": 4,
      "outputs": [
        {
          "output_type": "stream",
          "text": [
            "\r[*********************100%***********************]  1 of 1 completed\n"
          ],
          "name": "stdout"
        }
      ]
    },
    {
      "cell_type": "code",
      "metadata": {
        "colab": {
          "base_uri": "https://localhost:8080/"
        },
        "id": "IySqZheA8cuz",
        "outputId": "9ac23955-3fb2-45da-c21f-1087636d78f5"
      },
      "source": [
        "data.info()"
      ],
      "execution_count": 5,
      "outputs": [
        {
          "output_type": "stream",
          "text": [
            "<class 'pandas.core.frame.DataFrame'>\n",
            "DatetimeIndex: 748 entries, 2017-12-01 to 2020-11-30\n",
            "Data columns (total 6 columns):\n",
            " #   Column     Non-Null Count  Dtype  \n",
            "---  ------     --------------  -----  \n",
            " 0   Open       748 non-null    float64\n",
            " 1   High       748 non-null    float64\n",
            " 2   Low        748 non-null    float64\n",
            " 3   Close      748 non-null    float64\n",
            " 4   Adj Close  748 non-null    float64\n",
            " 5   Volume     748 non-null    int64  \n",
            "dtypes: float64(5), int64(1)\n",
            "memory usage: 40.9 KB\n"
          ],
          "name": "stdout"
        }
      ]
    },
    {
      "cell_type": "code",
      "metadata": {
        "colab": {
          "base_uri": "https://localhost:8080/",
          "height": 431
        },
        "id": "W4WW8DjFBDHc",
        "outputId": "c16e5224-9308-4c32-983b-0c092a508b60"
      },
      "source": [
        "data"
      ],
      "execution_count": 6,
      "outputs": [
        {
          "output_type": "execute_result",
          "data": {
            "text/html": [
              "<div>\n",
              "<style scoped>\n",
              "    .dataframe tbody tr th:only-of-type {\n",
              "        vertical-align: middle;\n",
              "    }\n",
              "\n",
              "    .dataframe tbody tr th {\n",
              "        vertical-align: top;\n",
              "    }\n",
              "\n",
              "    .dataframe thead th {\n",
              "        text-align: right;\n",
              "    }\n",
              "</style>\n",
              "<table border=\"1\" class=\"dataframe\">\n",
              "  <thead>\n",
              "    <tr style=\"text-align: right;\">\n",
              "      <th></th>\n",
              "      <th>Open</th>\n",
              "      <th>High</th>\n",
              "      <th>Low</th>\n",
              "      <th>Close</th>\n",
              "      <th>Adj Close</th>\n",
              "      <th>Volume</th>\n",
              "    </tr>\n",
              "    <tr>\n",
              "      <th>Date</th>\n",
              "      <th></th>\n",
              "      <th></th>\n",
              "      <th></th>\n",
              "      <th></th>\n",
              "      <th></th>\n",
              "      <th></th>\n",
              "    </tr>\n",
              "  </thead>\n",
              "  <tbody>\n",
              "    <tr>\n",
              "      <th>2017-12-01</th>\n",
              "      <td>3914.330078</td>\n",
              "      <td>3915.100098</td>\n",
              "      <td>3872.439941</td>\n",
              "      <td>3874.820068</td>\n",
              "      <td>3874.820068</td>\n",
              "      <td>0</td>\n",
              "    </tr>\n",
              "    <tr>\n",
              "      <th>2017-12-04</th>\n",
              "      <td>3879.229980</td>\n",
              "      <td>3911.550049</td>\n",
              "      <td>3879.229980</td>\n",
              "      <td>3892.010010</td>\n",
              "      <td>3892.010010</td>\n",
              "      <td>0</td>\n",
              "    </tr>\n",
              "    <tr>\n",
              "      <th>2017-12-05</th>\n",
              "      <td>3889.620117</td>\n",
              "      <td>3913.209961</td>\n",
              "      <td>3877.510010</td>\n",
              "      <td>3887.729980</td>\n",
              "      <td>3887.729980</td>\n",
              "      <td>0</td>\n",
              "    </tr>\n",
              "    <tr>\n",
              "      <th>2017-12-06</th>\n",
              "      <td>3889.620117</td>\n",
              "      <td>3913.209961</td>\n",
              "      <td>3877.510010</td>\n",
              "      <td>3887.729980</td>\n",
              "      <td>3887.729980</td>\n",
              "      <td>0</td>\n",
              "    </tr>\n",
              "    <tr>\n",
              "      <th>2017-12-07</th>\n",
              "      <td>3884.810059</td>\n",
              "      <td>3895.649902</td>\n",
              "      <td>3863.040039</td>\n",
              "      <td>3864.179932</td>\n",
              "      <td>3864.179932</td>\n",
              "      <td>0</td>\n",
              "    </tr>\n",
              "    <tr>\n",
              "      <th>...</th>\n",
              "      <td>...</td>\n",
              "      <td>...</td>\n",
              "      <td>...</td>\n",
              "      <td>...</td>\n",
              "      <td>...</td>\n",
              "      <td>...</td>\n",
              "    </tr>\n",
              "    <tr>\n",
              "      <th>2020-11-24</th>\n",
              "      <td>4525.390137</td>\n",
              "      <td>4562.390137</td>\n",
              "      <td>4524.549805</td>\n",
              "      <td>4560.370117</td>\n",
              "      <td>4560.370117</td>\n",
              "      <td>0</td>\n",
              "    </tr>\n",
              "    <tr>\n",
              "      <th>2020-11-25</th>\n",
              "      <td>4574.439941</td>\n",
              "      <td>4594.890137</td>\n",
              "      <td>4558.290039</td>\n",
              "      <td>4575.080078</td>\n",
              "      <td>4575.080078</td>\n",
              "      <td>0</td>\n",
              "    </tr>\n",
              "    <tr>\n",
              "      <th>2020-11-26</th>\n",
              "      <td>4584.689941</td>\n",
              "      <td>4589.129883</td>\n",
              "      <td>4554.410156</td>\n",
              "      <td>4567.640137</td>\n",
              "      <td>4567.640137</td>\n",
              "      <td>31518700</td>\n",
              "    </tr>\n",
              "    <tr>\n",
              "      <th>2020-11-27</th>\n",
              "      <td>4555.500000</td>\n",
              "      <td>4624.109863</td>\n",
              "      <td>4554.959961</td>\n",
              "      <td>4624.109863</td>\n",
              "      <td>4624.109863</td>\n",
              "      <td>0</td>\n",
              "    </tr>\n",
              "    <tr>\n",
              "      <th>2020-11-30</th>\n",
              "      <td>4614.529785</td>\n",
              "      <td>4619.220215</td>\n",
              "      <td>4564.660156</td>\n",
              "      <td>4564.660156</td>\n",
              "      <td>4564.660156</td>\n",
              "      <td>0</td>\n",
              "    </tr>\n",
              "  </tbody>\n",
              "</table>\n",
              "<p>748 rows × 6 columns</p>\n",
              "</div>"
            ],
            "text/plain": [
              "                   Open         High  ...    Adj Close    Volume\n",
              "Date                                  ...                       \n",
              "2017-12-01  3914.330078  3915.100098  ...  3874.820068         0\n",
              "2017-12-04  3879.229980  3911.550049  ...  3892.010010         0\n",
              "2017-12-05  3889.620117  3913.209961  ...  3887.729980         0\n",
              "2017-12-06  3889.620117  3913.209961  ...  3887.729980         0\n",
              "2017-12-07  3884.810059  3895.649902  ...  3864.179932         0\n",
              "...                 ...          ...  ...          ...       ...\n",
              "2020-11-24  4525.390137  4562.390137  ...  4560.370117         0\n",
              "2020-11-25  4574.439941  4594.890137  ...  4575.080078         0\n",
              "2020-11-26  4584.689941  4589.129883  ...  4567.640137  31518700\n",
              "2020-11-27  4555.500000  4624.109863  ...  4624.109863         0\n",
              "2020-11-30  4614.529785  4619.220215  ...  4564.660156         0\n",
              "\n",
              "[748 rows x 6 columns]"
            ]
          },
          "metadata": {
            "tags": []
          },
          "execution_count": 6
        }
      ]
    },
    {
      "cell_type": "code",
      "metadata": {
        "id": "qaJxSyfC9UIR"
      },
      "source": [
        "data_diff = data.diff()"
      ],
      "execution_count": 12,
      "outputs": []
    },
    {
      "cell_type": "code",
      "metadata": {
        "id": "dAaWhLwizl7F"
      },
      "source": [
        "import numpy\n",
        "import math\n",
        "\n",
        "from keras.models import Sequential\n",
        "from keras.layers import Dense\n",
        "from keras.layers import LSTM\n",
        "\n",
        "from sklearn.preprocessing import MinMaxScaler\n",
        "from sklearn.metrics import mean_squared_error"
      ],
      "execution_count": 13,
      "outputs": []
    },
    {
      "cell_type": "code",
      "metadata": {
        "id": "zBCHBW5iCTyG"
      },
      "source": [
        "# fix random seed for reproducibility\n",
        "numpy.random.seed(7)"
      ],
      "execution_count": 14,
      "outputs": []
    },
    {
      "cell_type": "code",
      "metadata": {
        "id": "TckgyRg6BzPk"
      },
      "source": [
        "# normalizing\n",
        "scaler = MinMaxScaler(feature_range=(-1, 1))\n",
        "data_diff['Adj_Close_scaled'] = scaler.fit_transform(data_diff['Adj Close'].values.reshape(-1, 1))"
      ],
      "execution_count": 15,
      "outputs": []
    },
    {
      "cell_type": "code",
      "metadata": {
        "colab": {
          "base_uri": "https://localhost:8080/",
          "height": 431
        },
        "id": "RZ-DwNTZG_ar",
        "outputId": "2207837e-141a-45fe-9082-f3ff0e6f80fe"
      },
      "source": [
        "data_diff"
      ],
      "execution_count": 16,
      "outputs": [
        {
          "output_type": "execute_result",
          "data": {
            "text/html": [
              "<div>\n",
              "<style scoped>\n",
              "    .dataframe tbody tr th:only-of-type {\n",
              "        vertical-align: middle;\n",
              "    }\n",
              "\n",
              "    .dataframe tbody tr th {\n",
              "        vertical-align: top;\n",
              "    }\n",
              "\n",
              "    .dataframe thead th {\n",
              "        text-align: right;\n",
              "    }\n",
              "</style>\n",
              "<table border=\"1\" class=\"dataframe\">\n",
              "  <thead>\n",
              "    <tr style=\"text-align: right;\">\n",
              "      <th></th>\n",
              "      <th>Open</th>\n",
              "      <th>High</th>\n",
              "      <th>Low</th>\n",
              "      <th>Close</th>\n",
              "      <th>Adj Close</th>\n",
              "      <th>Volume</th>\n",
              "      <th>Adj_Close_scaled</th>\n",
              "    </tr>\n",
              "    <tr>\n",
              "      <th>Date</th>\n",
              "      <th></th>\n",
              "      <th></th>\n",
              "      <th></th>\n",
              "      <th></th>\n",
              "      <th></th>\n",
              "      <th></th>\n",
              "      <th></th>\n",
              "    </tr>\n",
              "  </thead>\n",
              "  <tbody>\n",
              "    <tr>\n",
              "      <th>2017-12-01</th>\n",
              "      <td>NaN</td>\n",
              "      <td>NaN</td>\n",
              "      <td>NaN</td>\n",
              "      <td>NaN</td>\n",
              "      <td>NaN</td>\n",
              "      <td>NaN</td>\n",
              "      <td>NaN</td>\n",
              "    </tr>\n",
              "    <tr>\n",
              "      <th>2017-12-04</th>\n",
              "      <td>-35.100098</td>\n",
              "      <td>-3.550049</td>\n",
              "      <td>6.790039</td>\n",
              "      <td>17.189941</td>\n",
              "      <td>17.189941</td>\n",
              "      <td>0.0</td>\n",
              "      <td>0.339561</td>\n",
              "    </tr>\n",
              "    <tr>\n",
              "      <th>2017-12-05</th>\n",
              "      <td>10.390137</td>\n",
              "      <td>1.659912</td>\n",
              "      <td>-1.719971</td>\n",
              "      <td>-4.280029</td>\n",
              "      <td>-4.280029</td>\n",
              "      <td>0.0</td>\n",
              "      <td>0.262271</td>\n",
              "    </tr>\n",
              "    <tr>\n",
              "      <th>2017-12-06</th>\n",
              "      <td>0.000000</td>\n",
              "      <td>0.000000</td>\n",
              "      <td>0.000000</td>\n",
              "      <td>0.000000</td>\n",
              "      <td>0.000000</td>\n",
              "      <td>0.0</td>\n",
              "      <td>0.277678</td>\n",
              "    </tr>\n",
              "    <tr>\n",
              "      <th>2017-12-07</th>\n",
              "      <td>-4.810059</td>\n",
              "      <td>-17.560059</td>\n",
              "      <td>-14.469971</td>\n",
              "      <td>-23.550049</td>\n",
              "      <td>-23.550049</td>\n",
              "      <td>0.0</td>\n",
              "      <td>0.192900</td>\n",
              "    </tr>\n",
              "    <tr>\n",
              "      <th>...</th>\n",
              "      <td>...</td>\n",
              "      <td>...</td>\n",
              "      <td>...</td>\n",
              "      <td>...</td>\n",
              "      <td>...</td>\n",
              "      <td>...</td>\n",
              "      <td>...</td>\n",
              "    </tr>\n",
              "    <tr>\n",
              "      <th>2020-11-24</th>\n",
              "      <td>18.990234</td>\n",
              "      <td>36.439941</td>\n",
              "      <td>24.779785</td>\n",
              "      <td>53.560059</td>\n",
              "      <td>53.560059</td>\n",
              "      <td>0.0</td>\n",
              "      <td>0.470490</td>\n",
              "    </tr>\n",
              "    <tr>\n",
              "      <th>2020-11-25</th>\n",
              "      <td>49.049805</td>\n",
              "      <td>32.500000</td>\n",
              "      <td>33.740234</td>\n",
              "      <td>14.709961</td>\n",
              "      <td>14.709961</td>\n",
              "      <td>0.0</td>\n",
              "      <td>0.330633</td>\n",
              "    </tr>\n",
              "    <tr>\n",
              "      <th>2020-11-26</th>\n",
              "      <td>10.250000</td>\n",
              "      <td>-5.760254</td>\n",
              "      <td>-3.879883</td>\n",
              "      <td>-7.439941</td>\n",
              "      <td>-7.439941</td>\n",
              "      <td>31518700.0</td>\n",
              "      <td>0.250895</td>\n",
              "    </tr>\n",
              "    <tr>\n",
              "      <th>2020-11-27</th>\n",
              "      <td>-29.189941</td>\n",
              "      <td>34.979980</td>\n",
              "      <td>0.549805</td>\n",
              "      <td>56.469727</td>\n",
              "      <td>56.469727</td>\n",
              "      <td>-31518700.0</td>\n",
              "      <td>0.480964</td>\n",
              "    </tr>\n",
              "    <tr>\n",
              "      <th>2020-11-30</th>\n",
              "      <td>59.029785</td>\n",
              "      <td>-4.889648</td>\n",
              "      <td>9.700195</td>\n",
              "      <td>-59.449707</td>\n",
              "      <td>-59.449707</td>\n",
              "      <td>0.0</td>\n",
              "      <td>0.063665</td>\n",
              "    </tr>\n",
              "  </tbody>\n",
              "</table>\n",
              "<p>748 rows × 7 columns</p>\n",
              "</div>"
            ],
            "text/plain": [
              "                 Open       High  ...      Volume  Adj_Close_scaled\n",
              "Date                              ...                              \n",
              "2017-12-01        NaN        NaN  ...         NaN               NaN\n",
              "2017-12-04 -35.100098  -3.550049  ...         0.0          0.339561\n",
              "2017-12-05  10.390137   1.659912  ...         0.0          0.262271\n",
              "2017-12-06   0.000000   0.000000  ...         0.0          0.277678\n",
              "2017-12-07  -4.810059 -17.560059  ...         0.0          0.192900\n",
              "...               ...        ...  ...         ...               ...\n",
              "2020-11-24  18.990234  36.439941  ...         0.0          0.470490\n",
              "2020-11-25  49.049805  32.500000  ...         0.0          0.330633\n",
              "2020-11-26  10.250000  -5.760254  ...  31518700.0          0.250895\n",
              "2020-11-27 -29.189941  34.979980  ... -31518700.0          0.480964\n",
              "2020-11-30  59.029785  -4.889648  ...         0.0          0.063665\n",
              "\n",
              "[748 rows x 7 columns]"
            ]
          },
          "metadata": {
            "tags": []
          },
          "execution_count": 16
        }
      ]
    },
    {
      "cell_type": "code",
      "metadata": {
        "id": "FGnHbDKz0RDl"
      },
      "source": [
        "# get the data as matrix\n",
        "data_p = data_diff.iloc[1:,6].values.astype('float32')"
      ],
      "execution_count": 77,
      "outputs": []
    },
    {
      "cell_type": "code",
      "metadata": {
        "id": "swWBkeqF-hVh"
      },
      "source": [
        "data_p = data_p.reshape(-1,1)"
      ],
      "execution_count": 78,
      "outputs": []
    },
    {
      "cell_type": "code",
      "metadata": {
        "colab": {
          "base_uri": "https://localhost:8080/"
        },
        "id": "GdgtHKX80-0f",
        "outputId": "2d0e2e90-a50c-4ad0-b12d-bf1b1d4476aa"
      },
      "source": [
        "# split into train and test sets\n",
        "train_size = int(len(data_p) * 0.67)\n",
        "test_size = len(data_p) - train_size\n",
        "train, test = data_p[:train_size], data_p[train_size:len(data_p)]\n",
        "print(len(train), len(test))"
      ],
      "execution_count": 79,
      "outputs": [
        {
          "output_type": "stream",
          "text": [
            "500 247\n"
          ],
          "name": "stdout"
        }
      ]
    },
    {
      "cell_type": "code",
      "metadata": {
        "id": "VK2PMCB0bXmC"
      },
      "source": [
        "# reshape into X=t and Y=t+1\n",
        "look_back = 10\n",
        "X_train, y_train = create_dataset(train, look_back)\n",
        "X_test, y_test = create_dataset(test, look_back)"
      ],
      "execution_count": 80,
      "outputs": []
    },
    {
      "cell_type": "code",
      "metadata": {
        "colab": {
          "base_uri": "https://localhost:8080/"
        },
        "id": "Xz2mS8ZFgbs6",
        "outputId": "e8706052-760d-4da9-9606-c171ced5ae4f"
      },
      "source": [
        "X_train"
      ],
      "execution_count": 81,
      "outputs": [
        {
          "output_type": "execute_result",
          "data": {
            "text/plain": [
              "array([[0.3395605 , 0.26227063, 0.27767834, ..., 0.367676  , 0.1873933 ,\n",
              "        0.2918257 ],\n",
              "       [0.26227063, 0.27767834, 0.19290037, ..., 0.1873933 , 0.2918257 ,\n",
              "        0.4267141 ],\n",
              "       [0.27767834, 0.19290037, 0.36681205, ..., 0.2918257 , 0.4267141 ,\n",
              "        0.27685043],\n",
              "       ...,\n",
              "       [0.39690766, 0.21064767, 0.210072  , ..., 0.2646832 , 0.28207013,\n",
              "        0.25543028],\n",
              "       [0.21064767, 0.210072  , 0.26410663, ..., 0.28207013, 0.25543028,\n",
              "        0.21482413],\n",
              "       [0.210072  , 0.26410663, 0.19502464, ..., 0.25543028, 0.21482413,\n",
              "        0.10301083]], dtype=float32)"
            ]
          },
          "metadata": {
            "tags": []
          },
          "execution_count": 81
        }
      ]
    },
    {
      "cell_type": "code",
      "metadata": {
        "id": "k8KNTiNZcyVR"
      },
      "source": [
        "X_train = numpy.reshape(X_train, (X_train.shape[0], X_train.shape[1], 1))\n",
        "X_test = numpy.reshape(X_test, (X_test.shape[0], X_test.shape[1], 1))"
      ],
      "execution_count": 82,
      "outputs": []
    },
    {
      "cell_type": "code",
      "metadata": {
        "id": "2whbS3cI3wlX"
      },
      "source": [
        "# build the network\n",
        "\n",
        "model = Sequential()\n",
        "model.add(LSTM(16, input_shape=(look_back, 1), return_sequences=True))\n",
        "model.add(LSTM(4, return_sequences=False))\n",
        "model.add(Dense(1))\n",
        "model.compile(loss='mean_squared_error', optimizer='adam')"
      ],
      "execution_count": 83,
      "outputs": []
    },
    {
      "cell_type": "code",
      "metadata": {
        "colab": {
          "base_uri": "https://localhost:8080/"
        },
        "id": "6KHBW8fJPflL",
        "outputId": "ed237a9f-a51f-41e8-bd8e-cfe9a98f4f07"
      },
      "source": [
        "model.summary()"
      ],
      "execution_count": 84,
      "outputs": [
        {
          "output_type": "stream",
          "text": [
            "Model: \"sequential_8\"\n",
            "_________________________________________________________________\n",
            "Layer (type)                 Output Shape              Param #   \n",
            "=================================================================\n",
            "lstm_10 (LSTM)               (None, 10, 16)            1152      \n",
            "_________________________________________________________________\n",
            "lstm_11 (LSTM)               (None, 4)                 336       \n",
            "_________________________________________________________________\n",
            "dense_8 (Dense)              (None, 1)                 5         \n",
            "=================================================================\n",
            "Total params: 1,493\n",
            "Trainable params: 1,493\n",
            "Non-trainable params: 0\n",
            "_________________________________________________________________\n"
          ],
          "name": "stdout"
        }
      ]
    },
    {
      "cell_type": "code",
      "metadata": {
        "id": "GDFE0N2FPeIN",
        "colab": {
          "base_uri": "https://localhost:8080/"
        },
        "outputId": "62ef760a-d3b4-41bf-e46a-e6ace76ce63d"
      },
      "source": [
        "model.fit(X_train, y_train, epochs=10, batch_size=1, verbose=2)"
      ],
      "execution_count": 85,
      "outputs": [
        {
          "output_type": "stream",
          "text": [
            "Epoch 1/10\n",
            "489/489 - 2s - loss: 0.0203\n",
            "Epoch 2/10\n",
            "489/489 - 2s - loss: 0.0185\n",
            "Epoch 3/10\n",
            "489/489 - 2s - loss: 0.0188\n",
            "Epoch 4/10\n",
            "489/489 - 2s - loss: 0.0185\n",
            "Epoch 5/10\n",
            "489/489 - 2s - loss: 0.0185\n",
            "Epoch 6/10\n",
            "489/489 - 2s - loss: 0.0184\n",
            "Epoch 7/10\n",
            "489/489 - 2s - loss: 0.0180\n",
            "Epoch 8/10\n",
            "489/489 - 2s - loss: 0.0184\n",
            "Epoch 9/10\n",
            "489/489 - 2s - loss: 0.0184\n",
            "Epoch 10/10\n",
            "489/489 - 2s - loss: 0.0180\n"
          ],
          "name": "stdout"
        },
        {
          "output_type": "execute_result",
          "data": {
            "text/plain": [
              "<tensorflow.python.keras.callbacks.History at 0x7f937ee6a5f8>"
            ]
          },
          "metadata": {
            "tags": []
          },
          "execution_count": 85
        }
      ]
    },
    {
      "cell_type": "code",
      "metadata": {
        "id": "Dz7lrRhr4DEe"
      },
      "source": [
        "# make predictions\n",
        "trainPredict = model.predict(X_train)\n",
        "testPredict = model.predict(X_test)"
      ],
      "execution_count": 86,
      "outputs": []
    },
    {
      "cell_type": "code",
      "metadata": {
        "id": "GxH4Ihbt905d"
      },
      "source": [
        "# invert predictions\n",
        "trainPredict = scaler.inverse_transform(trainPredict)\n",
        "y_train = scaler.inverse_transform([y_train])\n",
        "\n",
        "testPredict = scaler.inverse_transform(testPredict)\n",
        "y_test = scaler.inverse_transform([y_test])"
      ],
      "execution_count": 87,
      "outputs": []
    },
    {
      "cell_type": "code",
      "metadata": {
        "colab": {
          "base_uri": "https://localhost:8080/"
        },
        "id": "x5y8wfiF-CFB",
        "outputId": "7770c127-9659-4e91-db57-56df9498c1f8"
      },
      "source": [
        "# calculate root mean squared error\n",
        "trainScore = math.sqrt(mean_squared_error(y_train[0], trainPredict[:,0]))\n",
        "print('Train Score: %.2f RMSE' % (trainScore))\n",
        "testScore = math.sqrt(mean_squared_error(y_test[0], testPredict[:,0]))\n",
        "print('Test Score: %.2f RMSE' % (testScore))"
      ],
      "execution_count": 88,
      "outputs": [
        {
          "output_type": "stream",
          "text": [
            "Train Score: 37.33 RMSE\n",
            "Test Score: 67.26 RMSE\n"
          ],
          "name": "stdout"
        }
      ]
    },
    {
      "cell_type": "code",
      "metadata": {
        "id": "540kpv2EEw6g"
      },
      "source": [
        "data_diff['Adj_close_pred'] = data_diff['Adj Close']"
      ],
      "execution_count": 89,
      "outputs": []
    },
    {
      "cell_type": "code",
      "metadata": {
        "colab": {
          "base_uri": "https://localhost:8080/"
        },
        "id": "GcR-M5rCFTsG",
        "outputId": "bc5188cd-8e0d-4726-f4b4-b4986e1d7e33"
      },
      "source": [
        "testPredict.shape"
      ],
      "execution_count": 90,
      "outputs": [
        {
          "output_type": "execute_result",
          "data": {
            "text/plain": [
              "(236, 1)"
            ]
          },
          "metadata": {
            "tags": []
          },
          "execution_count": 90
        }
      ]
    },
    {
      "cell_type": "code",
      "metadata": {
        "id": "ZybS1x_oE9LK"
      },
      "source": [
        "data_diff['Adj_close_pred'].iloc[-236:] = testPredict.flatten()"
      ],
      "execution_count": 91,
      "outputs": []
    },
    {
      "cell_type": "code",
      "metadata": {
        "colab": {
          "base_uri": "https://localhost:8080/"
        },
        "id": "i9x0LzjnFbsL",
        "outputId": "c77026cc-e2e2-415b-c7a6-9fc228872475"
      },
      "source": [
        "data_diff['Adj_close_pred']"
      ],
      "execution_count": 92,
      "outputs": [
        {
          "output_type": "execute_result",
          "data": {
            "text/plain": [
              "Date\n",
              "2017-12-01          NaN\n",
              "2017-12-04    17.189941\n",
              "2017-12-05    -4.280029\n",
              "2017-12-06     0.000000\n",
              "2017-12-07   -23.550049\n",
              "                ...    \n",
              "2020-11-24    -1.878167\n",
              "2020-11-25    -2.150998\n",
              "2020-11-26    -2.049402\n",
              "2020-11-27    -2.150865\n",
              "2020-11-30    -2.208170\n",
              "Name: Adj_close_pred, Length: 748, dtype: float64"
            ]
          },
          "metadata": {
            "tags": []
          },
          "execution_count": 92
        }
      ]
    },
    {
      "cell_type": "code",
      "metadata": {
        "colab": {
          "base_uri": "https://localhost:8080/",
          "height": 570
        },
        "id": "y9xI0OngHKC_",
        "outputId": "4d7dbffc-838a-4721-a631-0381ae6bb0d5"
      },
      "source": [
        "data_diff.loc[:,['Adj_close_pred']].plot()\n",
        "data_diff.loc[:,['Adj Close']].plot()"
      ],
      "execution_count": 93,
      "outputs": [
        {
          "output_type": "execute_result",
          "data": {
            "text/plain": [
              "<matplotlib.axes._subplots.AxesSubplot at 0x7f937de95a90>"
            ]
          },
          "metadata": {
            "tags": []
          },
          "execution_count": 93
        },
        {
          "output_type": "display_data",
          "data": {
            "image/png": "[encoded data removed]",
            "text/plain": [
              "<Figure size 432x288 with 1 Axes>"
            ]
          },
          "metadata": {
            "tags": [],
            "needs_background": "light"
          }
        },
        {
          "output_type": "display_data",
          "data": {
            "image/png": "[encoded data removed]",
            "text/plain": [
              "<Figure size 432x288 with 1 Axes>"
            ]
          },
          "metadata": {
            "tags": [],
            "needs_background": "light"
          }
        }
      ]
    },
    {
      "cell_type": "code",
      "metadata": {
        "id": "C8TvufAUiluc"
      },
      "source": [
        ""
      ],
      "execution_count": null,
      "outputs": []
    }
  ]
}